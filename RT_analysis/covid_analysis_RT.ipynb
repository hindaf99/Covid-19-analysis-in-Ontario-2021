{
 "cells": [
  {
   "cell_type": "markdown",
   "metadata": {},
   "source": [
    "# Part 1: Clean Data and Remove unwanted Columns"
   ]
  },
  {
   "cell_type": "code",
   "execution_count": 1,
   "metadata": {},
   "outputs": [],
   "source": [
    "\n",
    "import pandas as pd\n",
    "import matplotlib.pyplot as plt\n",
    "import numpy as np\n",
    "from datetime import datetime"
   ]
  },
  {
   "cell_type": "code",
   "execution_count": 2,
   "metadata": {},
   "outputs": [
    {
     "data": {
      "text/html": [
       "<div>\n",
       "<style scoped>\n",
       "    .dataframe tbody tr th:only-of-type {\n",
       "        vertical-align: middle;\n",
       "    }\n",
       "\n",
       "    .dataframe tbody tr th {\n",
       "        vertical-align: top;\n",
       "    }\n",
       "\n",
       "    .dataframe thead th {\n",
       "        text-align: right;\n",
       "    }\n",
       "</style>\n",
       "<table border=\"1\" class=\"dataframe\">\n",
       "  <thead>\n",
       "    <tr style=\"text-align: right;\">\n",
       "      <th></th>\n",
       "      <th>_id</th>\n",
       "      <th>Row_ID</th>\n",
       "      <th>Accurate_Episode_Date</th>\n",
       "      <th>Case_Reported_Date</th>\n",
       "      <th>Test_Reported_Date</th>\n",
       "      <th>Specimen_Date</th>\n",
       "      <th>Age_Group</th>\n",
       "      <th>Client_Gender</th>\n",
       "      <th>Case_AcquisitionInfo</th>\n",
       "      <th>Outcome1</th>\n",
       "      <th>Outbreak_Related</th>\n",
       "      <th>Reporting_PHU_ID</th>\n",
       "      <th>Reporting_PHU</th>\n",
       "      <th>Reporting_PHU_Address</th>\n",
       "      <th>Reporting_PHU_City</th>\n",
       "      <th>Reporting_PHU_Postal_Code</th>\n",
       "      <th>Reporting_PHU_Website</th>\n",
       "      <th>Reporting_PHU_Latitude</th>\n",
       "      <th>Reporting_PHU_Longitude</th>\n",
       "    </tr>\n",
       "  </thead>\n",
       "  <tbody>\n",
       "    <tr>\n",
       "      <th>0</th>\n",
       "      <td>1</td>\n",
       "      <td>1</td>\n",
       "      <td>2020-06-11T00:00:00</td>\n",
       "      <td>2020-06-14T00:00:00</td>\n",
       "      <td>2020-06-14T00:00:00</td>\n",
       "      <td>2020-06-13T00:00:00</td>\n",
       "      <td>20s</td>\n",
       "      <td>MALE</td>\n",
       "      <td>NO KNOWN EPI LINK</td>\n",
       "      <td>Resolved</td>\n",
       "      <td>NaN</td>\n",
       "      <td>2253</td>\n",
       "      <td>Peel Public Health</td>\n",
       "      <td>7120 Hurontario Street</td>\n",
       "      <td>Mississauga</td>\n",
       "      <td>L5W 1N4</td>\n",
       "      <td>www.peelregion.ca/health/</td>\n",
       "      <td>43.647471</td>\n",
       "      <td>-79.708893</td>\n",
       "    </tr>\n",
       "    <tr>\n",
       "      <th>1</th>\n",
       "      <td>2</td>\n",
       "      <td>2</td>\n",
       "      <td>2020-04-11T00:00:00</td>\n",
       "      <td>2020-04-19T00:00:00</td>\n",
       "      <td>2020-04-19T00:00:00</td>\n",
       "      <td>2020-04-13T00:00:00</td>\n",
       "      <td>30s</td>\n",
       "      <td>FEMALE</td>\n",
       "      <td>OB</td>\n",
       "      <td>Resolved</td>\n",
       "      <td>Yes</td>\n",
       "      <td>2253</td>\n",
       "      <td>Peel Public Health</td>\n",
       "      <td>7120 Hurontario Street</td>\n",
       "      <td>Mississauga</td>\n",
       "      <td>L5W 1N4</td>\n",
       "      <td>www.peelregion.ca/health/</td>\n",
       "      <td>43.647471</td>\n",
       "      <td>-79.708893</td>\n",
       "    </tr>\n",
       "    <tr>\n",
       "      <th>2</th>\n",
       "      <td>3</td>\n",
       "      <td>3</td>\n",
       "      <td>2020-07-08T00:00:00</td>\n",
       "      <td>2020-07-10T00:00:00</td>\n",
       "      <td>2020-07-10T00:00:00</td>\n",
       "      <td>2020-07-09T00:00:00</td>\n",
       "      <td>30s</td>\n",
       "      <td>MALE</td>\n",
       "      <td>OB</td>\n",
       "      <td>Resolved</td>\n",
       "      <td>Yes</td>\n",
       "      <td>2253</td>\n",
       "      <td>Peel Public Health</td>\n",
       "      <td>7120 Hurontario Street</td>\n",
       "      <td>Mississauga</td>\n",
       "      <td>L5W 1N4</td>\n",
       "      <td>www.peelregion.ca/health/</td>\n",
       "      <td>43.647471</td>\n",
       "      <td>-79.708893</td>\n",
       "    </tr>\n",
       "    <tr>\n",
       "      <th>3</th>\n",
       "      <td>4</td>\n",
       "      <td>4</td>\n",
       "      <td>2020-05-26T00:00:00</td>\n",
       "      <td>2020-06-01T00:00:00</td>\n",
       "      <td>2020-05-31T00:00:00</td>\n",
       "      <td>2020-05-29T00:00:00</td>\n",
       "      <td>20s</td>\n",
       "      <td>FEMALE</td>\n",
       "      <td>NO KNOWN EPI LINK</td>\n",
       "      <td>Resolved</td>\n",
       "      <td>NaN</td>\n",
       "      <td>2236</td>\n",
       "      <td>Halton Region Health Department</td>\n",
       "      <td>1151 Bronte Road</td>\n",
       "      <td>Oakville</td>\n",
       "      <td>L6M 3Ll</td>\n",
       "      <td>www.halton.ca/For-Residents/Public-Health/</td>\n",
       "      <td>43.413997</td>\n",
       "      <td>-79.744796</td>\n",
       "    </tr>\n",
       "    <tr>\n",
       "      <th>4</th>\n",
       "      <td>5</td>\n",
       "      <td>5</td>\n",
       "      <td>2020-04-27T00:00:00</td>\n",
       "      <td>2020-05-05T00:00:00</td>\n",
       "      <td>2020-05-05T00:00:00</td>\n",
       "      <td>2020-05-04T00:00:00</td>\n",
       "      <td>20s</td>\n",
       "      <td>FEMALE</td>\n",
       "      <td>OB</td>\n",
       "      <td>Resolved</td>\n",
       "      <td>Yes</td>\n",
       "      <td>2253</td>\n",
       "      <td>Peel Public Health</td>\n",
       "      <td>7120 Hurontario Street</td>\n",
       "      <td>Mississauga</td>\n",
       "      <td>L5W 1N4</td>\n",
       "      <td>www.peelregion.ca/health/</td>\n",
       "      <td>43.647471</td>\n",
       "      <td>-79.708893</td>\n",
       "    </tr>\n",
       "  </tbody>\n",
       "</table>\n",
       "</div>"
      ],
      "text/plain": [
       "   _id  Row_ID Accurate_Episode_Date   Case_Reported_Date  \\\n",
       "0    1       1   2020-06-11T00:00:00  2020-06-14T00:00:00   \n",
       "1    2       2   2020-04-11T00:00:00  2020-04-19T00:00:00   \n",
       "2    3       3   2020-07-08T00:00:00  2020-07-10T00:00:00   \n",
       "3    4       4   2020-05-26T00:00:00  2020-06-01T00:00:00   \n",
       "4    5       5   2020-04-27T00:00:00  2020-05-05T00:00:00   \n",
       "\n",
       "    Test_Reported_Date        Specimen_Date Age_Group Client_Gender  \\\n",
       "0  2020-06-14T00:00:00  2020-06-13T00:00:00       20s          MALE   \n",
       "1  2020-04-19T00:00:00  2020-04-13T00:00:00       30s        FEMALE   \n",
       "2  2020-07-10T00:00:00  2020-07-09T00:00:00       30s          MALE   \n",
       "3  2020-05-31T00:00:00  2020-05-29T00:00:00       20s        FEMALE   \n",
       "4  2020-05-05T00:00:00  2020-05-04T00:00:00       20s        FEMALE   \n",
       "\n",
       "  Case_AcquisitionInfo  Outcome1 Outbreak_Related  Reporting_PHU_ID  \\\n",
       "0    NO KNOWN EPI LINK  Resolved              NaN              2253   \n",
       "1                   OB  Resolved              Yes              2253   \n",
       "2                   OB  Resolved              Yes              2253   \n",
       "3    NO KNOWN EPI LINK  Resolved              NaN              2236   \n",
       "4                   OB  Resolved              Yes              2253   \n",
       "\n",
       "                     Reporting_PHU   Reporting_PHU_Address Reporting_PHU_City  \\\n",
       "0               Peel Public Health  7120 Hurontario Street        Mississauga   \n",
       "1               Peel Public Health  7120 Hurontario Street        Mississauga   \n",
       "2               Peel Public Health  7120 Hurontario Street        Mississauga   \n",
       "3  Halton Region Health Department        1151 Bronte Road           Oakville   \n",
       "4               Peel Public Health  7120 Hurontario Street        Mississauga   \n",
       "\n",
       "  Reporting_PHU_Postal_Code                        Reporting_PHU_Website  \\\n",
       "0                   L5W 1N4                    www.peelregion.ca/health/   \n",
       "1                   L5W 1N4                    www.peelregion.ca/health/   \n",
       "2                   L5W 1N4                    www.peelregion.ca/health/   \n",
       "3                   L6M 3Ll  www.halton.ca/For-Residents/Public-Health/    \n",
       "4                   L5W 1N4                    www.peelregion.ca/health/   \n",
       "\n",
       "   Reporting_PHU_Latitude  Reporting_PHU_Longitude  \n",
       "0               43.647471               -79.708893  \n",
       "1               43.647471               -79.708893  \n",
       "2               43.647471               -79.708893  \n",
       "3               43.413997               -79.744796  \n",
       "4               43.647471               -79.708893  "
      ]
     },
     "execution_count": 2,
     "metadata": {},
     "output_type": "execute_result"
    }
   ],
   "source": [
    "#read the data from the csv file\n",
    "csv_path = \"covid_data.csv\"\n",
    "covid_df = pd.read_csv(csv_path)\n",
    "covid_df.head()"
   ]
  },
  {
   "cell_type": "code",
   "execution_count": 3,
   "metadata": {},
   "outputs": [
    {
     "data": {
      "text/html": [
       "<div>\n",
       "<style scoped>\n",
       "    .dataframe tbody tr th:only-of-type {\n",
       "        vertical-align: middle;\n",
       "    }\n",
       "\n",
       "    .dataframe tbody tr th {\n",
       "        vertical-align: top;\n",
       "    }\n",
       "\n",
       "    .dataframe thead th {\n",
       "        text-align: right;\n",
       "    }\n",
       "</style>\n",
       "<table border=\"1\" class=\"dataframe\">\n",
       "  <thead>\n",
       "    <tr style=\"text-align: right;\">\n",
       "      <th></th>\n",
       "      <th>_id</th>\n",
       "      <th>Row_ID</th>\n",
       "      <th>Accurate_Episode_Date</th>\n",
       "      <th>Case_Reported_Date</th>\n",
       "      <th>Test_Reported_Date</th>\n",
       "      <th>Specimen_Date</th>\n",
       "      <th>Age_Group</th>\n",
       "      <th>Client_Gender</th>\n",
       "      <th>Case_AcquisitionInfo</th>\n",
       "      <th>Outcome1</th>\n",
       "      <th>Outbreak_Related</th>\n",
       "      <th>Reporting_PHU_ID</th>\n",
       "      <th>Reporting_PHU</th>\n",
       "      <th>Reporting_PHU_Address</th>\n",
       "      <th>Reporting_PHU_City</th>\n",
       "      <th>Reporting_PHU_Postal_Code</th>\n",
       "      <th>Reporting_PHU_Latitude</th>\n",
       "      <th>Reporting_PHU_Longitude</th>\n",
       "    </tr>\n",
       "  </thead>\n",
       "  <tbody>\n",
       "    <tr>\n",
       "      <th>0</th>\n",
       "      <td>1</td>\n",
       "      <td>1</td>\n",
       "      <td>2020-06-11T00:00:00</td>\n",
       "      <td>2020-06-14T00:00:00</td>\n",
       "      <td>2020-06-14T00:00:00</td>\n",
       "      <td>2020-06-13T00:00:00</td>\n",
       "      <td>20s</td>\n",
       "      <td>MALE</td>\n",
       "      <td>NO KNOWN EPI LINK</td>\n",
       "      <td>Resolved</td>\n",
       "      <td>NaN</td>\n",
       "      <td>2253</td>\n",
       "      <td>Peel Public Health</td>\n",
       "      <td>7120 Hurontario Street</td>\n",
       "      <td>Mississauga</td>\n",
       "      <td>L5W 1N4</td>\n",
       "      <td>43.647471</td>\n",
       "      <td>-79.708893</td>\n",
       "    </tr>\n",
       "    <tr>\n",
       "      <th>1</th>\n",
       "      <td>2</td>\n",
       "      <td>2</td>\n",
       "      <td>2020-04-11T00:00:00</td>\n",
       "      <td>2020-04-19T00:00:00</td>\n",
       "      <td>2020-04-19T00:00:00</td>\n",
       "      <td>2020-04-13T00:00:00</td>\n",
       "      <td>30s</td>\n",
       "      <td>FEMALE</td>\n",
       "      <td>OB</td>\n",
       "      <td>Resolved</td>\n",
       "      <td>Yes</td>\n",
       "      <td>2253</td>\n",
       "      <td>Peel Public Health</td>\n",
       "      <td>7120 Hurontario Street</td>\n",
       "      <td>Mississauga</td>\n",
       "      <td>L5W 1N4</td>\n",
       "      <td>43.647471</td>\n",
       "      <td>-79.708893</td>\n",
       "    </tr>\n",
       "    <tr>\n",
       "      <th>2</th>\n",
       "      <td>3</td>\n",
       "      <td>3</td>\n",
       "      <td>2020-07-08T00:00:00</td>\n",
       "      <td>2020-07-10T00:00:00</td>\n",
       "      <td>2020-07-10T00:00:00</td>\n",
       "      <td>2020-07-09T00:00:00</td>\n",
       "      <td>30s</td>\n",
       "      <td>MALE</td>\n",
       "      <td>OB</td>\n",
       "      <td>Resolved</td>\n",
       "      <td>Yes</td>\n",
       "      <td>2253</td>\n",
       "      <td>Peel Public Health</td>\n",
       "      <td>7120 Hurontario Street</td>\n",
       "      <td>Mississauga</td>\n",
       "      <td>L5W 1N4</td>\n",
       "      <td>43.647471</td>\n",
       "      <td>-79.708893</td>\n",
       "    </tr>\n",
       "    <tr>\n",
       "      <th>3</th>\n",
       "      <td>4</td>\n",
       "      <td>4</td>\n",
       "      <td>2020-05-26T00:00:00</td>\n",
       "      <td>2020-06-01T00:00:00</td>\n",
       "      <td>2020-05-31T00:00:00</td>\n",
       "      <td>2020-05-29T00:00:00</td>\n",
       "      <td>20s</td>\n",
       "      <td>FEMALE</td>\n",
       "      <td>NO KNOWN EPI LINK</td>\n",
       "      <td>Resolved</td>\n",
       "      <td>NaN</td>\n",
       "      <td>2236</td>\n",
       "      <td>Halton Region Health Department</td>\n",
       "      <td>1151 Bronte Road</td>\n",
       "      <td>Oakville</td>\n",
       "      <td>L6M 3Ll</td>\n",
       "      <td>43.413997</td>\n",
       "      <td>-79.744796</td>\n",
       "    </tr>\n",
       "    <tr>\n",
       "      <th>4</th>\n",
       "      <td>5</td>\n",
       "      <td>5</td>\n",
       "      <td>2020-04-27T00:00:00</td>\n",
       "      <td>2020-05-05T00:00:00</td>\n",
       "      <td>2020-05-05T00:00:00</td>\n",
       "      <td>2020-05-04T00:00:00</td>\n",
       "      <td>20s</td>\n",
       "      <td>FEMALE</td>\n",
       "      <td>OB</td>\n",
       "      <td>Resolved</td>\n",
       "      <td>Yes</td>\n",
       "      <td>2253</td>\n",
       "      <td>Peel Public Health</td>\n",
       "      <td>7120 Hurontario Street</td>\n",
       "      <td>Mississauga</td>\n",
       "      <td>L5W 1N4</td>\n",
       "      <td>43.647471</td>\n",
       "      <td>-79.708893</td>\n",
       "    </tr>\n",
       "  </tbody>\n",
       "</table>\n",
       "</div>"
      ],
      "text/plain": [
       "   _id  Row_ID Accurate_Episode_Date   Case_Reported_Date  \\\n",
       "0    1       1   2020-06-11T00:00:00  2020-06-14T00:00:00   \n",
       "1    2       2   2020-04-11T00:00:00  2020-04-19T00:00:00   \n",
       "2    3       3   2020-07-08T00:00:00  2020-07-10T00:00:00   \n",
       "3    4       4   2020-05-26T00:00:00  2020-06-01T00:00:00   \n",
       "4    5       5   2020-04-27T00:00:00  2020-05-05T00:00:00   \n",
       "\n",
       "    Test_Reported_Date        Specimen_Date Age_Group Client_Gender  \\\n",
       "0  2020-06-14T00:00:00  2020-06-13T00:00:00       20s          MALE   \n",
       "1  2020-04-19T00:00:00  2020-04-13T00:00:00       30s        FEMALE   \n",
       "2  2020-07-10T00:00:00  2020-07-09T00:00:00       30s          MALE   \n",
       "3  2020-05-31T00:00:00  2020-05-29T00:00:00       20s        FEMALE   \n",
       "4  2020-05-05T00:00:00  2020-05-04T00:00:00       20s        FEMALE   \n",
       "\n",
       "  Case_AcquisitionInfo  Outcome1 Outbreak_Related  Reporting_PHU_ID  \\\n",
       "0    NO KNOWN EPI LINK  Resolved              NaN              2253   \n",
       "1                   OB  Resolved              Yes              2253   \n",
       "2                   OB  Resolved              Yes              2253   \n",
       "3    NO KNOWN EPI LINK  Resolved              NaN              2236   \n",
       "4                   OB  Resolved              Yes              2253   \n",
       "\n",
       "                     Reporting_PHU   Reporting_PHU_Address Reporting_PHU_City  \\\n",
       "0               Peel Public Health  7120 Hurontario Street        Mississauga   \n",
       "1               Peel Public Health  7120 Hurontario Street        Mississauga   \n",
       "2               Peel Public Health  7120 Hurontario Street        Mississauga   \n",
       "3  Halton Region Health Department        1151 Bronte Road           Oakville   \n",
       "4               Peel Public Health  7120 Hurontario Street        Mississauga   \n",
       "\n",
       "  Reporting_PHU_Postal_Code  Reporting_PHU_Latitude  Reporting_PHU_Longitude  \n",
       "0                   L5W 1N4               43.647471               -79.708893  \n",
       "1                   L5W 1N4               43.647471               -79.708893  \n",
       "2                   L5W 1N4               43.647471               -79.708893  \n",
       "3                   L6M 3Ll               43.413997               -79.744796  \n",
       "4                   L5W 1N4               43.647471               -79.708893  "
      ]
     },
     "execution_count": 3,
     "metadata": {},
     "output_type": "execute_result"
    }
   ],
   "source": [
    "# get rid of the column that contains web adress as it is usless\n",
    "covid_df = covid_df.drop([\"Reporting_PHU_Website\"], axis=1)\n",
    "covid_df.head()"
   ]
  },
  {
   "cell_type": "code",
   "execution_count": 4,
   "metadata": {},
   "outputs": [
    {
     "data": {
      "text/plain": [
       "_id                          541880\n",
       "Row_ID                       541880\n",
       "Accurate_Episode_Date        541880\n",
       "Case_Reported_Date           541880\n",
       "Test_Reported_Date           529423\n",
       "Specimen_Date                539613\n",
       "Age_Group                    541880\n",
       "Client_Gender                541880\n",
       "Case_AcquisitionInfo         541880\n",
       "Outcome1                     541880\n",
       "Outbreak_Related              91962\n",
       "Reporting_PHU_ID             541880\n",
       "Reporting_PHU                541880\n",
       "Reporting_PHU_Address        541880\n",
       "Reporting_PHU_City           541880\n",
       "Reporting_PHU_Postal_Code    541880\n",
       "Reporting_PHU_Latitude       541880\n",
       "Reporting_PHU_Longitude      541880\n",
       "dtype: int64"
      ]
     },
     "execution_count": 4,
     "metadata": {},
     "output_type": "execute_result"
    }
   ],
   "source": [
    "#May decide not to remove the rows as they are not missing any data that is crucial\n",
    "\n",
    "covid_df.count()"
   ]
  },
  {
   "cell_type": "code",
   "execution_count": 5,
   "metadata": {},
   "outputs": [
    {
     "data": {
      "text/plain": [
       "_id                            int64\n",
       "Row_ID                         int64\n",
       "Accurate_Episode_Date         object\n",
       "Case_Reported_Date            object\n",
       "Test_Reported_Date            object\n",
       "Specimen_Date                 object\n",
       "Age_Group                     object\n",
       "Client_Gender                 object\n",
       "Case_AcquisitionInfo          object\n",
       "Outcome1                      object\n",
       "Outbreak_Related              object\n",
       "Reporting_PHU_ID               int64\n",
       "Reporting_PHU                 object\n",
       "Reporting_PHU_Address         object\n",
       "Reporting_PHU_City            object\n",
       "Reporting_PHU_Postal_Code     object\n",
       "Reporting_PHU_Latitude       float64\n",
       "Reporting_PHU_Longitude      float64\n",
       "dtype: object"
      ]
     },
     "execution_count": 5,
     "metadata": {},
     "output_type": "execute_result"
    }
   ],
   "source": [
    "#we may need to change the objects to float\n",
    "covid_df.dtypes"
   ]
  },
  {
   "cell_type": "code",
   "execution_count": 6,
   "metadata": {},
   "outputs": [
    {
     "data": {
      "text/html": [
       "<div>\n",
       "<style scoped>\n",
       "    .dataframe tbody tr th:only-of-type {\n",
       "        vertical-align: middle;\n",
       "    }\n",
       "\n",
       "    .dataframe tbody tr th {\n",
       "        vertical-align: top;\n",
       "    }\n",
       "\n",
       "    .dataframe thead th {\n",
       "        text-align: right;\n",
       "    }\n",
       "</style>\n",
       "<table border=\"1\" class=\"dataframe\">\n",
       "  <thead>\n",
       "    <tr style=\"text-align: right;\">\n",
       "      <th></th>\n",
       "      <th>_id</th>\n",
       "      <th>Row_ID</th>\n",
       "      <th>Reporting_PHU_ID</th>\n",
       "      <th>Reporting_PHU_Latitude</th>\n",
       "      <th>Reporting_PHU_Longitude</th>\n",
       "    </tr>\n",
       "  </thead>\n",
       "  <tbody>\n",
       "    <tr>\n",
       "      <th>count</th>\n",
       "      <td>541880.000000</td>\n",
       "      <td>541880.000000</td>\n",
       "      <td>541880.000000</td>\n",
       "      <td>541880.000000</td>\n",
       "      <td>541880.000000</td>\n",
       "    </tr>\n",
       "    <tr>\n",
       "      <th>mean</th>\n",
       "      <td>270940.500000</td>\n",
       "      <td>270940.500000</td>\n",
       "      <td>2779.813396</td>\n",
       "      <td>43.780182</td>\n",
       "      <td>-79.586593</td>\n",
       "    </tr>\n",
       "    <tr>\n",
       "      <th>std</th>\n",
       "      <td>156427.426272</td>\n",
       "      <td>156427.426272</td>\n",
       "      <td>787.909669</td>\n",
       "      <td>0.800119</td>\n",
       "      <td>1.649311</td>\n",
       "    </tr>\n",
       "    <tr>\n",
       "      <th>min</th>\n",
       "      <td>1.000000</td>\n",
       "      <td>1.000000</td>\n",
       "      <td>2226.000000</td>\n",
       "      <td>42.308796</td>\n",
       "      <td>-94.488254</td>\n",
       "    </tr>\n",
       "    <tr>\n",
       "      <th>25%</th>\n",
       "      <td>135470.750000</td>\n",
       "      <td>135470.750000</td>\n",
       "      <td>2251.000000</td>\n",
       "      <td>43.647471</td>\n",
       "      <td>-79.708893</td>\n",
       "    </tr>\n",
       "    <tr>\n",
       "      <th>50%</th>\n",
       "      <td>270940.500000</td>\n",
       "      <td>270940.500000</td>\n",
       "      <td>2260.000000</td>\n",
       "      <td>43.656591</td>\n",
       "      <td>-79.480239</td>\n",
       "    </tr>\n",
       "    <tr>\n",
       "      <th>75%</th>\n",
       "      <td>406410.250000</td>\n",
       "      <td>406410.250000</td>\n",
       "      <td>3895.000000</td>\n",
       "      <td>43.898605</td>\n",
       "      <td>-79.379358</td>\n",
       "    </tr>\n",
       "    <tr>\n",
       "      <th>max</th>\n",
       "      <td>541880.000000</td>\n",
       "      <td>541880.000000</td>\n",
       "      <td>5183.000000</td>\n",
       "      <td>49.769615</td>\n",
       "      <td>-74.736298</td>\n",
       "    </tr>\n",
       "  </tbody>\n",
       "</table>\n",
       "</div>"
      ],
      "text/plain": [
       "                 _id         Row_ID  Reporting_PHU_ID  Reporting_PHU_Latitude  \\\n",
       "count  541880.000000  541880.000000     541880.000000           541880.000000   \n",
       "mean   270940.500000  270940.500000       2779.813396               43.780182   \n",
       "std    156427.426272  156427.426272        787.909669                0.800119   \n",
       "min         1.000000       1.000000       2226.000000               42.308796   \n",
       "25%    135470.750000  135470.750000       2251.000000               43.647471   \n",
       "50%    270940.500000  270940.500000       2260.000000               43.656591   \n",
       "75%    406410.250000  406410.250000       3895.000000               43.898605   \n",
       "max    541880.000000  541880.000000       5183.000000               49.769615   \n",
       "\n",
       "       Reporting_PHU_Longitude  \n",
       "count            541880.000000  \n",
       "mean                -79.586593  \n",
       "std                   1.649311  \n",
       "min                 -94.488254  \n",
       "25%                 -79.708893  \n",
       "50%                 -79.480239  \n",
       "75%                 -79.379358  \n",
       "max                 -74.736298  "
      ]
     },
     "execution_count": 6,
     "metadata": {},
     "output_type": "execute_result"
    }
   ],
   "source": [
    "#This doesnt really work need to convert from string if we wanted to use the .describe function\n",
    "\n",
    "covid_df.describe()"
   ]
  },
  {
   "cell_type": "markdown",
   "metadata": {},
   "source": [
    "# Part 2: Age Demographics Analysis"
   ]
  },
  {
   "cell_type": "markdown",
   "metadata": {},
   "source": [
    "# Which age group is most likely to get COVID? \n",
    "\n"
   ]
  },
  {
   "cell_type": "code",
   "execution_count": 7,
   "metadata": {},
   "outputs": [
    {
     "data": {
      "text/plain": [
       "array(['20s', '30s', '70s', '60s', '80s', '50s', '40s', '90+', '<20',\n",
       "       'UNKNOWN'], dtype=object)"
      ]
     },
     "execution_count": 7,
     "metadata": {},
     "output_type": "execute_result"
    }
   ],
   "source": [
    "#find the different age groups to see how they are sorted\n",
    "covid_df['Age_Group'].unique()"
   ]
  },
  {
   "cell_type": "code",
   "execution_count": 8,
   "metadata": {},
   "outputs": [],
   "source": [
    "# Rename the column group UNKNOWN to clean the graph up\n",
    "covid_df['Age_Group'] = covid_df['Age_Group'].replace(\n",
    "    {'UNKNOWN': 'Unsure'})"
   ]
  },
  {
   "cell_type": "code",
   "execution_count": 9,
   "metadata": {},
   "outputs": [
    {
     "data": {
      "text/html": [
       "<div>\n",
       "<style scoped>\n",
       "    .dataframe tbody tr th:only-of-type {\n",
       "        vertical-align: middle;\n",
       "    }\n",
       "\n",
       "    .dataframe tbody tr th {\n",
       "        vertical-align: top;\n",
       "    }\n",
       "\n",
       "    .dataframe thead th {\n",
       "        text-align: right;\n",
       "    }\n",
       "</style>\n",
       "<table border=\"1\" class=\"dataframe\">\n",
       "  <thead>\n",
       "    <tr style=\"text-align: right;\">\n",
       "      <th></th>\n",
       "      <th>Age</th>\n",
       "      <th>Count</th>\n",
       "    </tr>\n",
       "  </thead>\n",
       "  <tbody>\n",
       "    <tr>\n",
       "      <th>0</th>\n",
       "      <td>Unsure</td>\n",
       "      <td>104</td>\n",
       "    </tr>\n",
       "    <tr>\n",
       "      <th>1</th>\n",
       "      <td>90+</td>\n",
       "      <td>8564</td>\n",
       "    </tr>\n",
       "    <tr>\n",
       "      <th>2</th>\n",
       "      <td>80s</td>\n",
       "      <td>16402</td>\n",
       "    </tr>\n",
       "    <tr>\n",
       "      <th>3</th>\n",
       "      <td>70s</td>\n",
       "      <td>23990</td>\n",
       "    </tr>\n",
       "    <tr>\n",
       "      <th>4</th>\n",
       "      <td>60s</td>\n",
       "      <td>48052</td>\n",
       "    </tr>\n",
       "    <tr>\n",
       "      <th>5</th>\n",
       "      <td>50s</td>\n",
       "      <td>76938</td>\n",
       "    </tr>\n",
       "    <tr>\n",
       "      <th>6</th>\n",
       "      <td>40s</td>\n",
       "      <td>77835</td>\n",
       "    </tr>\n",
       "    <tr>\n",
       "      <th>7</th>\n",
       "      <td>&lt;20</td>\n",
       "      <td>86979</td>\n",
       "    </tr>\n",
       "    <tr>\n",
       "      <th>8</th>\n",
       "      <td>30s</td>\n",
       "      <td>88292</td>\n",
       "    </tr>\n",
       "    <tr>\n",
       "      <th>9</th>\n",
       "      <td>20s</td>\n",
       "      <td>114724</td>\n",
       "    </tr>\n",
       "  </tbody>\n",
       "</table>\n",
       "</div>"
      ],
      "text/plain": [
       "      Age   Count\n",
       "0  Unsure     104\n",
       "1     90+    8564\n",
       "2     80s   16402\n",
       "3     70s   23990\n",
       "4     60s   48052\n",
       "5     50s   76938\n",
       "6     40s   77835\n",
       "7     <20   86979\n",
       "8     30s   88292\n",
       "9     20s  114724"
      ]
     },
     "execution_count": 9,
     "metadata": {},
     "output_type": "execute_result"
    }
   ],
   "source": [
    "value_counts = covid_df['Age_Group'].value_counts(ascending=True) \n",
    "# converting to df and assigning new names to the columns\n",
    "df_value_counts = pd.DataFrame(value_counts)\n",
    "df_value_counts = df_value_counts.reset_index()\n",
    "# change column names\n",
    "df_value_counts.columns = ['Age', 'Count'] \n",
    "df_value_counts"
   ]
  },
  {
   "cell_type": "code",
   "execution_count": 10,
   "metadata": {},
   "outputs": [
    {
     "data": {
      "text/plain": [
       "Age      object\n",
       "Count     int64\n",
       "dtype: object"
      ]
     },
     "execution_count": 10,
     "metadata": {},
     "output_type": "execute_result"
    }
   ],
   "source": [
    "df_value_counts.dtypes"
   ]
  },
  {
   "cell_type": "code",
   "execution_count": 11,
   "metadata": {},
   "outputs": [
    {
     "data": {
      "text/plain": [
       "0    Unsure\n",
       "1       90+\n",
       "2       80s\n",
       "3       70s\n",
       "4       60s\n",
       "5       50s\n",
       "6       40s\n",
       "7       <20\n",
       "8       30s\n",
       "9       20s\n",
       "Name: Age, dtype: object"
      ]
     },
     "execution_count": 11,
     "metadata": {},
     "output_type": "execute_result"
    }
   ],
   "source": [
    "age = df_value_counts[\"Age\"]\n",
    "age"
   ]
  },
  {
   "cell_type": "code",
   "execution_count": 12,
   "metadata": {},
   "outputs": [
    {
     "data": {
      "text/plain": [
       "0       104\n",
       "1      8564\n",
       "2     16402\n",
       "3     23990\n",
       "4     48052\n",
       "5     76938\n",
       "6     77835\n",
       "7     86979\n",
       "8     88292\n",
       "9    114724\n",
       "Name: Count, dtype: int64"
      ]
     },
     "execution_count": 12,
     "metadata": {},
     "output_type": "execute_result"
    }
   ],
   "source": [
    "count = df_value_counts[\"Count\"]\n",
    "count"
   ]
  },
  {
   "cell_type": "code",
   "execution_count": 91,
   "metadata": {
    "scrolled": false
   },
   "outputs": [
    {
     "data": {
      "image/png": "[encoded data removed]",
      "text/plain": [
       "<Figure size 432x288 with 1 Axes>"
      ]
     },
     "metadata": {
      "needs_background": "light"
     },
     "output_type": "display_data"
    }
   ],
   "source": [
    "color1 = ['grey','#F97306', '#069aF3', ]\n",
    "plt.bar(age, count, color=color1, align=\"center\")\n",
    "plt.title(\"COVID-19 Case Count per Age Group (Ontario)\")\n",
    "plt.xlabel(\"Age Group from Lowest Cases to Highest\")\n",
    "plt.ylabel(\"Number of COVID-19 cases\")\n",
    "plt.savefig(\"project_1/COVID-19 Case Count per Age Group (Ontario).png\", bbox_inches='tight')\n",
    "plt.show()"
   ]
  },
  {
   "cell_type": "code",
   "execution_count": null,
   "metadata": {},
   "outputs": [],
   "source": [
    "\n"
   ]
  },
  {
   "cell_type": "code",
   "execution_count": 14,
   "metadata": {},
   "outputs": [],
   "source": [
    "#I will use these groups to show the break down of the 3 bins (<20,20s,30) (40s,50s,60s) (70s,80s,90+)\n",
    "group_1 = df_value_counts.loc[(df_value_counts[\"Age\"] == \"<20\") | (df_value_counts[\"Age\"] == \"20s\") | (df_value_counts[\"Age\"] == \"30s\"), :]\n",
    "group_2 = df_value_counts.loc[(df_value_counts[\"Age\"] == \"40s\") | (df_value_counts[\"Age\"] == \"50s\") | (df_value_counts[\"Age\"] == \"60s\"), :]\n",
    "group_3 = df_value_counts.loc[(df_value_counts[\"Age\"] == \"70s\") | (df_value_counts[\"Age\"] == \"80s\") | (df_value_counts[\"Age\"] == \"90+\"), :]\n",
    "\n"
   ]
  },
  {
   "cell_type": "code",
   "execution_count": 15,
   "metadata": {},
   "outputs": [],
   "source": [
    "group_1_df = pd.DataFrame(group_1)\n",
    "group_2_df = pd.DataFrame(group_2)\n",
    "group_3_df = pd.DataFrame(group_3)\n"
   ]
  },
  {
   "cell_type": "code",
   "execution_count": 16,
   "metadata": {},
   "outputs": [
    {
     "data": {
      "text/plain": [
       "289995"
      ]
     },
     "execution_count": 16,
     "metadata": {},
     "output_type": "execute_result"
    }
   ],
   "source": [
    "sum_g1 = group_1_df[\"Count\"].sum\n",
    "sum_g1()"
   ]
  },
  {
   "cell_type": "code",
   "execution_count": 17,
   "metadata": {},
   "outputs": [
    {
     "data": {
      "text/plain": [
       "202825"
      ]
     },
     "execution_count": 17,
     "metadata": {},
     "output_type": "execute_result"
    }
   ],
   "source": [
    "sum_g2 = group_2_df[\"Count\"].sum\n",
    "sum_g2()\n"
   ]
  },
  {
   "cell_type": "code",
   "execution_count": 18,
   "metadata": {},
   "outputs": [
    {
     "data": {
      "text/plain": [
       "48956"
      ]
     },
     "execution_count": 18,
     "metadata": {},
     "output_type": "execute_result"
    }
   ],
   "source": [
    "sum_g3 = group_3_df[\"Count\"].sum\n",
    "sum_g3()"
   ]
  },
  {
   "cell_type": "code",
   "execution_count": 19,
   "metadata": {},
   "outputs": [
    {
     "name": "stdout",
     "output_type": "stream",
     "text": [
      "[289995, 202825, 48956]\n"
     ]
    }
   ],
   "source": [
    "#Create pie chart that shows how age can be broken down into three groups (<20,20s,30) (40s,50s,60s) (70s,80s,90+)\n",
    "group_counts = [289995,202825,48956]\n",
    "labels_all = [\"Under 40\", \"Between 40 and 60\", \"60 and Over\"]\n",
    "print(group_counts)\n"
   ]
  },
  {
   "cell_type": "code",
   "execution_count": 92,
   "metadata": {},
   "outputs": [
    {
     "data": {
      "image/png": "[encoded data removed]",
      "text/plain": [
       "<Figure size 432x288 with 1 Axes>"
      ]
     },
     "metadata": {},
     "output_type": "display_data"
    }
   ],
   "source": [
    "color1 =  ['#F97306', '#069aF3', 'grey' ]\n",
    "\n",
    "plt.pie(group_counts, labels=labels_all, colors=color1,\n",
    "      autopct=\"%1.1f%%\", shadow=True, startangle=140)\n",
    "plt.title(\"COVID cases by Age Groups\")\n",
    "plt.savefig(\"COVID cases by Age Groups.png\")"
   ]
  },
  {
   "cell_type": "code",
   "execution_count": 21,
   "metadata": {},
   "outputs": [],
   "source": [
    "#Get the numbers to create pie charts for the three groups of age broken down farther\n",
    "age_1 = group_1_df[\"Age\"]\n",
    "count_1 = group_1_df[\"Count\"]\n",
    "\n",
    "age_2 = group_2_df[\"Age\"]\n",
    "count_2 = group_2_df[\"Count\"]\n",
    "\n",
    "age_3 = group_3_df[\"Age\"]\n",
    "count_3 = group_3_df[\"Count\"]"
   ]
  },
  {
   "cell_type": "code",
   "execution_count": null,
   "metadata": {},
   "outputs": [],
   "source": []
  },
  {
   "cell_type": "code",
   "execution_count": 22,
   "metadata": {},
   "outputs": [
    {
     "data": {
      "image/png": "[encoded data removed]",
      "text/plain": [
       "<Figure size 432x288 with 1 Axes>"
      ]
     },
     "metadata": {},
     "output_type": "display_data"
    }
   ],
   "source": [
    "plt.pie(count_1, labels=age_1,\n",
    "        autopct=\"%1.1f%%\", shadow=True, startangle=140)\n",
    "plt.title(\"COVID cases by age (39 and under)\")\n",
    "#plt.savefig(\"COVID cases by age (39 and under).png\")\n",
    "plt.show()"
   ]
  },
  {
   "cell_type": "code",
   "execution_count": 23,
   "metadata": {},
   "outputs": [
    {
     "data": {
      "image/png": "[encoded data removed]",
      "text/plain": [
       "<Figure size 432x288 with 1 Axes>"
      ]
     },
     "metadata": {},
     "output_type": "display_data"
    }
   ],
   "source": [
    "plt.pie(count_2, labels=age_2,\n",
    "        autopct=\"%1.1f%%\", shadow=True, startangle=140)\n",
    "plt.title(\"COVID cases by age (40 - 59)\")\n",
    "#plt.savefig(\"COVID cases by age (40 - 59).png\")\n",
    "plt.show()"
   ]
  },
  {
   "cell_type": "code",
   "execution_count": 24,
   "metadata": {},
   "outputs": [
    {
     "data": {
      "image/png": "[encoded data removed]",
      "text/plain": [
       "<Figure size 432x288 with 1 Axes>"
      ]
     },
     "metadata": {},
     "output_type": "display_data"
    }
   ],
   "source": [
    "plt.pie(count_3, labels=age_3,\n",
    "        autopct=\"%1.1f%%\", shadow=True, startangle=140)\n",
    "plt.title(\"COVID cases by age (60+)\")\n",
    "#plt.savefig(\"COVID cases by age (60+).png\")\n",
    "plt.show()"
   ]
  },
  {
   "cell_type": "markdown",
   "metadata": {},
   "source": [
    "# Part 3: Time and Date Analysis\n"
   ]
  },
  {
   "cell_type": "markdown",
   "metadata": {},
   "source": [
    "# Which month and day had the most COVID cases?\n"
   ]
  },
  {
   "cell_type": "markdown",
   "metadata": {},
   "source": [
    "# What is the average number of cases of COVID per month?"
   ]
  },
  {
   "cell_type": "code",
   "execution_count": 25,
   "metadata": {},
   "outputs": [],
   "source": [
    "#convert the dates to datetime\n",
    "covid_df['Case_Reported_Date'] = pd.to_datetime(covid_df['Case_Reported_Date'])\n"
   ]
  },
  {
   "cell_type": "code",
   "execution_count": 26,
   "metadata": {},
   "outputs": [
    {
     "data": {
      "text/html": [
       "<div>\n",
       "<style scoped>\n",
       "    .dataframe tbody tr th:only-of-type {\n",
       "        vertical-align: middle;\n",
       "    }\n",
       "\n",
       "    .dataframe tbody tr th {\n",
       "        vertical-align: top;\n",
       "    }\n",
       "\n",
       "    .dataframe thead th {\n",
       "        text-align: right;\n",
       "    }\n",
       "</style>\n",
       "<table border=\"1\" class=\"dataframe\">\n",
       "  <thead>\n",
       "    <tr style=\"text-align: right;\">\n",
       "      <th></th>\n",
       "      <th>_id</th>\n",
       "      <th>Row_ID</th>\n",
       "      <th>Accurate_Episode_Date</th>\n",
       "      <th>Case_Reported_Date</th>\n",
       "      <th>Test_Reported_Date</th>\n",
       "      <th>Specimen_Date</th>\n",
       "      <th>Age_Group</th>\n",
       "      <th>Client_Gender</th>\n",
       "      <th>Case_AcquisitionInfo</th>\n",
       "      <th>Outcome1</th>\n",
       "      <th>Outbreak_Related</th>\n",
       "      <th>Reporting_PHU_ID</th>\n",
       "      <th>Reporting_PHU</th>\n",
       "      <th>Reporting_PHU_Address</th>\n",
       "      <th>Reporting_PHU_City</th>\n",
       "      <th>Reporting_PHU_Postal_Code</th>\n",
       "      <th>Reporting_PHU_Latitude</th>\n",
       "      <th>Reporting_PHU_Longitude</th>\n",
       "    </tr>\n",
       "  </thead>\n",
       "  <tbody>\n",
       "    <tr>\n",
       "      <th>0</th>\n",
       "      <td>1</td>\n",
       "      <td>1</td>\n",
       "      <td>2020-06-11T00:00:00</td>\n",
       "      <td>2020-06-14</td>\n",
       "      <td>2020-06-14T00:00:00</td>\n",
       "      <td>2020-06-13T00:00:00</td>\n",
       "      <td>20s</td>\n",
       "      <td>MALE</td>\n",
       "      <td>NO KNOWN EPI LINK</td>\n",
       "      <td>Resolved</td>\n",
       "      <td>NaN</td>\n",
       "      <td>2253</td>\n",
       "      <td>Peel Public Health</td>\n",
       "      <td>7120 Hurontario Street</td>\n",
       "      <td>Mississauga</td>\n",
       "      <td>L5W 1N4</td>\n",
       "      <td>43.647471</td>\n",
       "      <td>-79.708893</td>\n",
       "    </tr>\n",
       "    <tr>\n",
       "      <th>1</th>\n",
       "      <td>2</td>\n",
       "      <td>2</td>\n",
       "      <td>2020-04-11T00:00:00</td>\n",
       "      <td>2020-04-19</td>\n",
       "      <td>2020-04-19T00:00:00</td>\n",
       "      <td>2020-04-13T00:00:00</td>\n",
       "      <td>30s</td>\n",
       "      <td>FEMALE</td>\n",
       "      <td>OB</td>\n",
       "      <td>Resolved</td>\n",
       "      <td>Yes</td>\n",
       "      <td>2253</td>\n",
       "      <td>Peel Public Health</td>\n",
       "      <td>7120 Hurontario Street</td>\n",
       "      <td>Mississauga</td>\n",
       "      <td>L5W 1N4</td>\n",
       "      <td>43.647471</td>\n",
       "      <td>-79.708893</td>\n",
       "    </tr>\n",
       "    <tr>\n",
       "      <th>2</th>\n",
       "      <td>3</td>\n",
       "      <td>3</td>\n",
       "      <td>2020-07-08T00:00:00</td>\n",
       "      <td>2020-07-10</td>\n",
       "      <td>2020-07-10T00:00:00</td>\n",
       "      <td>2020-07-09T00:00:00</td>\n",
       "      <td>30s</td>\n",
       "      <td>MALE</td>\n",
       "      <td>OB</td>\n",
       "      <td>Resolved</td>\n",
       "      <td>Yes</td>\n",
       "      <td>2253</td>\n",
       "      <td>Peel Public Health</td>\n",
       "      <td>7120 Hurontario Street</td>\n",
       "      <td>Mississauga</td>\n",
       "      <td>L5W 1N4</td>\n",
       "      <td>43.647471</td>\n",
       "      <td>-79.708893</td>\n",
       "    </tr>\n",
       "    <tr>\n",
       "      <th>3</th>\n",
       "      <td>4</td>\n",
       "      <td>4</td>\n",
       "      <td>2020-05-26T00:00:00</td>\n",
       "      <td>2020-06-01</td>\n",
       "      <td>2020-05-31T00:00:00</td>\n",
       "      <td>2020-05-29T00:00:00</td>\n",
       "      <td>20s</td>\n",
       "      <td>FEMALE</td>\n",
       "      <td>NO KNOWN EPI LINK</td>\n",
       "      <td>Resolved</td>\n",
       "      <td>NaN</td>\n",
       "      <td>2236</td>\n",
       "      <td>Halton Region Health Department</td>\n",
       "      <td>1151 Bronte Road</td>\n",
       "      <td>Oakville</td>\n",
       "      <td>L6M 3Ll</td>\n",
       "      <td>43.413997</td>\n",
       "      <td>-79.744796</td>\n",
       "    </tr>\n",
       "    <tr>\n",
       "      <th>4</th>\n",
       "      <td>5</td>\n",
       "      <td>5</td>\n",
       "      <td>2020-04-27T00:00:00</td>\n",
       "      <td>2020-05-05</td>\n",
       "      <td>2020-05-05T00:00:00</td>\n",
       "      <td>2020-05-04T00:00:00</td>\n",
       "      <td>20s</td>\n",
       "      <td>FEMALE</td>\n",
       "      <td>OB</td>\n",
       "      <td>Resolved</td>\n",
       "      <td>Yes</td>\n",
       "      <td>2253</td>\n",
       "      <td>Peel Public Health</td>\n",
       "      <td>7120 Hurontario Street</td>\n",
       "      <td>Mississauga</td>\n",
       "      <td>L5W 1N4</td>\n",
       "      <td>43.647471</td>\n",
       "      <td>-79.708893</td>\n",
       "    </tr>\n",
       "  </tbody>\n",
       "</table>\n",
       "</div>"
      ],
      "text/plain": [
       "   _id  Row_ID Accurate_Episode_Date Case_Reported_Date   Test_Reported_Date  \\\n",
       "0    1       1   2020-06-11T00:00:00         2020-06-14  2020-06-14T00:00:00   \n",
       "1    2       2   2020-04-11T00:00:00         2020-04-19  2020-04-19T00:00:00   \n",
       "2    3       3   2020-07-08T00:00:00         2020-07-10  2020-07-10T00:00:00   \n",
       "3    4       4   2020-05-26T00:00:00         2020-06-01  2020-05-31T00:00:00   \n",
       "4    5       5   2020-04-27T00:00:00         2020-05-05  2020-05-05T00:00:00   \n",
       "\n",
       "         Specimen_Date Age_Group Client_Gender Case_AcquisitionInfo  Outcome1  \\\n",
       "0  2020-06-13T00:00:00       20s          MALE    NO KNOWN EPI LINK  Resolved   \n",
       "1  2020-04-13T00:00:00       30s        FEMALE                   OB  Resolved   \n",
       "2  2020-07-09T00:00:00       30s          MALE                   OB  Resolved   \n",
       "3  2020-05-29T00:00:00       20s        FEMALE    NO KNOWN EPI LINK  Resolved   \n",
       "4  2020-05-04T00:00:00       20s        FEMALE                   OB  Resolved   \n",
       "\n",
       "  Outbreak_Related  Reporting_PHU_ID                    Reporting_PHU  \\\n",
       "0              NaN              2253               Peel Public Health   \n",
       "1              Yes              2253               Peel Public Health   \n",
       "2              Yes              2253               Peel Public Health   \n",
       "3              NaN              2236  Halton Region Health Department   \n",
       "4              Yes              2253               Peel Public Health   \n",
       "\n",
       "    Reporting_PHU_Address Reporting_PHU_City Reporting_PHU_Postal_Code  \\\n",
       "0  7120 Hurontario Street        Mississauga                   L5W 1N4   \n",
       "1  7120 Hurontario Street        Mississauga                   L5W 1N4   \n",
       "2  7120 Hurontario Street        Mississauga                   L5W 1N4   \n",
       "3        1151 Bronte Road           Oakville                   L6M 3Ll   \n",
       "4  7120 Hurontario Street        Mississauga                   L5W 1N4   \n",
       "\n",
       "   Reporting_PHU_Latitude  Reporting_PHU_Longitude  \n",
       "0               43.647471               -79.708893  \n",
       "1               43.647471               -79.708893  \n",
       "2               43.647471               -79.708893  \n",
       "3               43.413997               -79.744796  \n",
       "4               43.647471               -79.708893  "
      ]
     },
     "execution_count": 26,
     "metadata": {},
     "output_type": "execute_result"
    }
   ],
   "source": [
    "covid_df.head()"
   ]
  },
  {
   "cell_type": "code",
   "execution_count": 27,
   "metadata": {},
   "outputs": [
    {
     "data": {
      "text/plain": [
       "2021-04-14    5069\n",
       "2021-04-15    4827\n",
       "2021-04-17    4800\n",
       "2021-04-10    4716\n",
       "2021-04-22    4509\n",
       "              ... \n",
       "2020-01-24       1\n",
       "2020-02-25       1\n",
       "2020-03-04       1\n",
       "2020-02-26       1\n",
       "2020-02-21       1\n",
       "Name: Case_Reported_Date, Length: 482, dtype: int64"
      ]
     },
     "execution_count": 27,
     "metadata": {},
     "output_type": "execute_result"
    }
   ],
   "source": [
    "#See the number of cases for each day\n",
    "covid_df['Case_Reported_Date'].value_counts()"
   ]
  },
  {
   "cell_type": "code",
   "execution_count": 28,
   "metadata": {},
   "outputs": [],
   "source": [
    "#which day had the highest count?\n",
    "#2021-04-14 5069"
   ]
  },
  {
   "cell_type": "code",
   "execution_count": 29,
   "metadata": {},
   "outputs": [
    {
     "data": {
      "text/html": [
       "<div>\n",
       "<style scoped>\n",
       "    .dataframe tbody tr th:only-of-type {\n",
       "        vertical-align: middle;\n",
       "    }\n",
       "\n",
       "    .dataframe tbody tr th {\n",
       "        vertical-align: top;\n",
       "    }\n",
       "\n",
       "    .dataframe thead th {\n",
       "        text-align: right;\n",
       "    }\n",
       "</style>\n",
       "<table border=\"1\" class=\"dataframe\">\n",
       "  <thead>\n",
       "    <tr style=\"text-align: right;\">\n",
       "      <th></th>\n",
       "      <th>_id</th>\n",
       "      <th>Row_ID</th>\n",
       "      <th>Accurate_Episode_Date</th>\n",
       "      <th>Case_Reported_Date</th>\n",
       "      <th>Test_Reported_Date</th>\n",
       "      <th>Specimen_Date</th>\n",
       "      <th>Age_Group</th>\n",
       "      <th>Client_Gender</th>\n",
       "      <th>Case_AcquisitionInfo</th>\n",
       "      <th>Outcome1</th>\n",
       "      <th>Outbreak_Related</th>\n",
       "      <th>Reporting_PHU_ID</th>\n",
       "      <th>Reporting_PHU</th>\n",
       "      <th>Reporting_PHU_Address</th>\n",
       "      <th>Reporting_PHU_City</th>\n",
       "      <th>Reporting_PHU_Postal_Code</th>\n",
       "      <th>Reporting_PHU_Latitude</th>\n",
       "      <th>Reporting_PHU_Longitude</th>\n",
       "      <th>month</th>\n",
       "      <th>year</th>\n",
       "    </tr>\n",
       "  </thead>\n",
       "  <tbody>\n",
       "    <tr>\n",
       "      <th>0</th>\n",
       "      <td>1</td>\n",
       "      <td>1</td>\n",
       "      <td>2020-06-11T00:00:00</td>\n",
       "      <td>2020-06-14</td>\n",
       "      <td>2020-06-14T00:00:00</td>\n",
       "      <td>2020-06-13T00:00:00</td>\n",
       "      <td>20s</td>\n",
       "      <td>MALE</td>\n",
       "      <td>NO KNOWN EPI LINK</td>\n",
       "      <td>Resolved</td>\n",
       "      <td>NaN</td>\n",
       "      <td>2253</td>\n",
       "      <td>Peel Public Health</td>\n",
       "      <td>7120 Hurontario Street</td>\n",
       "      <td>Mississauga</td>\n",
       "      <td>L5W 1N4</td>\n",
       "      <td>43.647471</td>\n",
       "      <td>-79.708893</td>\n",
       "      <td>6</td>\n",
       "      <td>2020</td>\n",
       "    </tr>\n",
       "    <tr>\n",
       "      <th>1</th>\n",
       "      <td>2</td>\n",
       "      <td>2</td>\n",
       "      <td>2020-04-11T00:00:00</td>\n",
       "      <td>2020-04-19</td>\n",
       "      <td>2020-04-19T00:00:00</td>\n",
       "      <td>2020-04-13T00:00:00</td>\n",
       "      <td>30s</td>\n",
       "      <td>FEMALE</td>\n",
       "      <td>OB</td>\n",
       "      <td>Resolved</td>\n",
       "      <td>Yes</td>\n",
       "      <td>2253</td>\n",
       "      <td>Peel Public Health</td>\n",
       "      <td>7120 Hurontario Street</td>\n",
       "      <td>Mississauga</td>\n",
       "      <td>L5W 1N4</td>\n",
       "      <td>43.647471</td>\n",
       "      <td>-79.708893</td>\n",
       "      <td>4</td>\n",
       "      <td>2020</td>\n",
       "    </tr>\n",
       "    <tr>\n",
       "      <th>2</th>\n",
       "      <td>3</td>\n",
       "      <td>3</td>\n",
       "      <td>2020-07-08T00:00:00</td>\n",
       "      <td>2020-07-10</td>\n",
       "      <td>2020-07-10T00:00:00</td>\n",
       "      <td>2020-07-09T00:00:00</td>\n",
       "      <td>30s</td>\n",
       "      <td>MALE</td>\n",
       "      <td>OB</td>\n",
       "      <td>Resolved</td>\n",
       "      <td>Yes</td>\n",
       "      <td>2253</td>\n",
       "      <td>Peel Public Health</td>\n",
       "      <td>7120 Hurontario Street</td>\n",
       "      <td>Mississauga</td>\n",
       "      <td>L5W 1N4</td>\n",
       "      <td>43.647471</td>\n",
       "      <td>-79.708893</td>\n",
       "      <td>7</td>\n",
       "      <td>2020</td>\n",
       "    </tr>\n",
       "    <tr>\n",
       "      <th>3</th>\n",
       "      <td>4</td>\n",
       "      <td>4</td>\n",
       "      <td>2020-05-26T00:00:00</td>\n",
       "      <td>2020-06-01</td>\n",
       "      <td>2020-05-31T00:00:00</td>\n",
       "      <td>2020-05-29T00:00:00</td>\n",
       "      <td>20s</td>\n",
       "      <td>FEMALE</td>\n",
       "      <td>NO KNOWN EPI LINK</td>\n",
       "      <td>Resolved</td>\n",
       "      <td>NaN</td>\n",
       "      <td>2236</td>\n",
       "      <td>Halton Region Health Department</td>\n",
       "      <td>1151 Bronte Road</td>\n",
       "      <td>Oakville</td>\n",
       "      <td>L6M 3Ll</td>\n",
       "      <td>43.413997</td>\n",
       "      <td>-79.744796</td>\n",
       "      <td>6</td>\n",
       "      <td>2020</td>\n",
       "    </tr>\n",
       "    <tr>\n",
       "      <th>4</th>\n",
       "      <td>5</td>\n",
       "      <td>5</td>\n",
       "      <td>2020-04-27T00:00:00</td>\n",
       "      <td>2020-05-05</td>\n",
       "      <td>2020-05-05T00:00:00</td>\n",
       "      <td>2020-05-04T00:00:00</td>\n",
       "      <td>20s</td>\n",
       "      <td>FEMALE</td>\n",
       "      <td>OB</td>\n",
       "      <td>Resolved</td>\n",
       "      <td>Yes</td>\n",
       "      <td>2253</td>\n",
       "      <td>Peel Public Health</td>\n",
       "      <td>7120 Hurontario Street</td>\n",
       "      <td>Mississauga</td>\n",
       "      <td>L5W 1N4</td>\n",
       "      <td>43.647471</td>\n",
       "      <td>-79.708893</td>\n",
       "      <td>5</td>\n",
       "      <td>2020</td>\n",
       "    </tr>\n",
       "  </tbody>\n",
       "</table>\n",
       "</div>"
      ],
      "text/plain": [
       "   _id  Row_ID Accurate_Episode_Date Case_Reported_Date   Test_Reported_Date  \\\n",
       "0    1       1   2020-06-11T00:00:00         2020-06-14  2020-06-14T00:00:00   \n",
       "1    2       2   2020-04-11T00:00:00         2020-04-19  2020-04-19T00:00:00   \n",
       "2    3       3   2020-07-08T00:00:00         2020-07-10  2020-07-10T00:00:00   \n",
       "3    4       4   2020-05-26T00:00:00         2020-06-01  2020-05-31T00:00:00   \n",
       "4    5       5   2020-04-27T00:00:00         2020-05-05  2020-05-05T00:00:00   \n",
       "\n",
       "         Specimen_Date Age_Group Client_Gender Case_AcquisitionInfo  Outcome1  \\\n",
       "0  2020-06-13T00:00:00       20s          MALE    NO KNOWN EPI LINK  Resolved   \n",
       "1  2020-04-13T00:00:00       30s        FEMALE                   OB  Resolved   \n",
       "2  2020-07-09T00:00:00       30s          MALE                   OB  Resolved   \n",
       "3  2020-05-29T00:00:00       20s        FEMALE    NO KNOWN EPI LINK  Resolved   \n",
       "4  2020-05-04T00:00:00       20s        FEMALE                   OB  Resolved   \n",
       "\n",
       "  Outbreak_Related  Reporting_PHU_ID                    Reporting_PHU  \\\n",
       "0              NaN              2253               Peel Public Health   \n",
       "1              Yes              2253               Peel Public Health   \n",
       "2              Yes              2253               Peel Public Health   \n",
       "3              NaN              2236  Halton Region Health Department   \n",
       "4              Yes              2253               Peel Public Health   \n",
       "\n",
       "    Reporting_PHU_Address Reporting_PHU_City Reporting_PHU_Postal_Code  \\\n",
       "0  7120 Hurontario Street        Mississauga                   L5W 1N4   \n",
       "1  7120 Hurontario Street        Mississauga                   L5W 1N4   \n",
       "2  7120 Hurontario Street        Mississauga                   L5W 1N4   \n",
       "3        1151 Bronte Road           Oakville                   L6M 3Ll   \n",
       "4  7120 Hurontario Street        Mississauga                   L5W 1N4   \n",
       "\n",
       "   Reporting_PHU_Latitude  Reporting_PHU_Longitude  month  year  \n",
       "0               43.647471               -79.708893      6  2020  \n",
       "1               43.647471               -79.708893      4  2020  \n",
       "2               43.647471               -79.708893      7  2020  \n",
       "3               43.413997               -79.744796      6  2020  \n",
       "4               43.647471               -79.708893      5  2020  "
      ]
     },
     "execution_count": 29,
     "metadata": {},
     "output_type": "execute_result"
    }
   ],
   "source": [
    "#add a month and a year column to the dataframe\n",
    "\n",
    "covid_df['month'] = covid_df['Case_Reported_Date'].dt.month\n",
    "covid_df['year'] = covid_df['Case_Reported_Date'].dt.year\n",
    "covid_df.head()"
   ]
  },
  {
   "cell_type": "code",
   "execution_count": 30,
   "metadata": {},
   "outputs": [
    {
     "data": {
      "text/plain": [
       "2021    354459\n",
       "2020    187421\n",
       "Name: year, dtype: int64"
      ]
     },
     "execution_count": 30,
     "metadata": {},
     "output_type": "execute_result"
    }
   ],
   "source": [
    "#How many COVID cases in each year\n",
    "covid_df['year'].value_counts()"
   ]
  },
  {
   "cell_type": "code",
   "execution_count": 31,
   "metadata": {},
   "outputs": [],
   "source": [
    "#Split the dataframe into 2020 and 2021\n",
    "only_2020 = covid_df.loc[covid_df[\"year\"] == 2020, :]\n",
    "only_2021 = covid_df.loc[covid_df[\"year\"] == 2021, :]"
   ]
  },
  {
   "cell_type": "code",
   "execution_count": null,
   "metadata": {},
   "outputs": [],
   "source": []
  },
  {
   "cell_type": "code",
   "execution_count": 32,
   "metadata": {},
   "outputs": [
    {
     "data": {
      "text/html": [
       "<div>\n",
       "<style scoped>\n",
       "    .dataframe tbody tr th:only-of-type {\n",
       "        vertical-align: middle;\n",
       "    }\n",
       "\n",
       "    .dataframe tbody tr th {\n",
       "        vertical-align: top;\n",
       "    }\n",
       "\n",
       "    .dataframe thead th {\n",
       "        text-align: right;\n",
       "    }\n",
       "</style>\n",
       "<table border=\"1\" class=\"dataframe\">\n",
       "  <thead>\n",
       "    <tr style=\"text-align: right;\">\n",
       "      <th></th>\n",
       "      <th>Month</th>\n",
       "      <th>Count</th>\n",
       "    </tr>\n",
       "  </thead>\n",
       "  <tbody>\n",
       "    <tr>\n",
       "      <th>0</th>\n",
       "      <td>12</td>\n",
       "      <td>68013</td>\n",
       "    </tr>\n",
       "    <tr>\n",
       "      <th>1</th>\n",
       "      <td>11</td>\n",
       "      <td>42461</td>\n",
       "    </tr>\n",
       "    <tr>\n",
       "      <th>2</th>\n",
       "      <td>10</td>\n",
       "      <td>24574</td>\n",
       "    </tr>\n",
       "    <tr>\n",
       "      <th>3</th>\n",
       "      <td>4</td>\n",
       "      <td>14741</td>\n",
       "    </tr>\n",
       "    <tr>\n",
       "      <th>4</th>\n",
       "      <td>5</td>\n",
       "      <td>10977</td>\n",
       "    </tr>\n",
       "    <tr>\n",
       "      <th>5</th>\n",
       "      <td>9</td>\n",
       "      <td>10099</td>\n",
       "    </tr>\n",
       "    <tr>\n",
       "      <th>6</th>\n",
       "      <td>6</td>\n",
       "      <td>6354</td>\n",
       "    </tr>\n",
       "    <tr>\n",
       "      <th>7</th>\n",
       "      <td>7</td>\n",
       "      <td>4066</td>\n",
       "    </tr>\n",
       "    <tr>\n",
       "      <th>8</th>\n",
       "      <td>8</td>\n",
       "      <td>3144</td>\n",
       "    </tr>\n",
       "    <tr>\n",
       "      <th>9</th>\n",
       "      <td>3</td>\n",
       "      <td>2975</td>\n",
       "    </tr>\n",
       "    <tr>\n",
       "      <th>10</th>\n",
       "      <td>2</td>\n",
       "      <td>14</td>\n",
       "    </tr>\n",
       "    <tr>\n",
       "      <th>11</th>\n",
       "      <td>1</td>\n",
       "      <td>3</td>\n",
       "    </tr>\n",
       "  </tbody>\n",
       "</table>\n",
       "</div>"
      ],
      "text/plain": [
       "    Month  Count\n",
       "0      12  68013\n",
       "1      11  42461\n",
       "2      10  24574\n",
       "3       4  14741\n",
       "4       5  10977\n",
       "5       9  10099\n",
       "6       6   6354\n",
       "7       7   4066\n",
       "8       8   3144\n",
       "9       3   2975\n",
       "10      2     14\n",
       "11      1      3"
      ]
     },
     "execution_count": 32,
     "metadata": {},
     "output_type": "execute_result"
    }
   ],
   "source": [
    "#counts by month for 2020\n",
    "df2020 = only_2020['month'].value_counts()\n",
    "df_2020 = pd.DataFrame(df2020)\n",
    "df_2020 = df_2020.reset_index()\n",
    "df_2020.columns = ['Month', 'Count']\n",
    "#df_2020['Month'] = df_2020.astype(object)\n",
    "\n",
    "df_2020"
   ]
  },
  {
   "cell_type": "code",
   "execution_count": 33,
   "metadata": {},
   "outputs": [
    {
     "data": {
      "text/html": [
       "<div>\n",
       "<style scoped>\n",
       "    .dataframe tbody tr th:only-of-type {\n",
       "        vertical-align: middle;\n",
       "    }\n",
       "\n",
       "    .dataframe tbody tr th {\n",
       "        vertical-align: top;\n",
       "    }\n",
       "\n",
       "    .dataframe thead th {\n",
       "        text-align: right;\n",
       "    }\n",
       "</style>\n",
       "<table border=\"1\" class=\"dataframe\">\n",
       "  <thead>\n",
       "    <tr style=\"text-align: right;\">\n",
       "      <th></th>\n",
       "      <th>Month</th>\n",
       "      <th>Count</th>\n",
       "    </tr>\n",
       "  </thead>\n",
       "  <tbody>\n",
       "    <tr>\n",
       "      <th>0</th>\n",
       "      <td>4</td>\n",
       "      <td>115388</td>\n",
       "    </tr>\n",
       "    <tr>\n",
       "      <th>1</th>\n",
       "      <td>1</td>\n",
       "      <td>83010</td>\n",
       "    </tr>\n",
       "    <tr>\n",
       "      <th>2</th>\n",
       "      <td>5</td>\n",
       "      <td>62752</td>\n",
       "    </tr>\n",
       "    <tr>\n",
       "      <th>3</th>\n",
       "      <td>3</td>\n",
       "      <td>51631</td>\n",
       "    </tr>\n",
       "    <tr>\n",
       "      <th>4</th>\n",
       "      <td>2</td>\n",
       "      <td>32358</td>\n",
       "    </tr>\n",
       "    <tr>\n",
       "      <th>5</th>\n",
       "      <td>6</td>\n",
       "      <td>9320</td>\n",
       "    </tr>\n",
       "  </tbody>\n",
       "</table>\n",
       "</div>"
      ],
      "text/plain": [
       "   Month   Count\n",
       "0      4  115388\n",
       "1      1   83010\n",
       "2      5   62752\n",
       "3      3   51631\n",
       "4      2   32358\n",
       "5      6    9320"
      ]
     },
     "execution_count": 33,
     "metadata": {},
     "output_type": "execute_result"
    }
   ],
   "source": [
    "#counts by month for 2021\n",
    "df2021 = only_2021['month'].value_counts()\n",
    "df_2021 = pd.DataFrame(df2021)\n",
    "df_2021 = df_2021.reset_index()\n",
    "df_2021.columns = ['Month', 'Count'] \n",
    "df_2021"
   ]
  },
  {
   "cell_type": "code",
   "execution_count": 34,
   "metadata": {},
   "outputs": [],
   "source": [
    "#Define the variables to put in a  graph\n",
    "\n",
    "month2020 = df_2020['Month']\n",
    "count2020 = df_2020['Count']\n",
    "\n",
    "month2021 = df_2021['Month']\n",
    "count2021 = df_2021['Count']"
   ]
  },
  {
   "cell_type": "code",
   "execution_count": 78,
   "metadata": {},
   "outputs": [],
   "source": []
  },
  {
   "cell_type": "code",
   "execution_count": 93,
   "metadata": {},
   "outputs": [
    {
     "data": {
      "image/png": "[encoded data removed]",
      "text/plain": [
       "<Figure size 432x288 with 1 Axes>"
      ]
     },
     "metadata": {
      "needs_background": "light"
     },
     "output_type": "display_data"
    }
   ],
   "source": [
    "#plot for the year 2021\n",
    "\n",
    "plt.bar(month2021, count2021, color='#F97306', align=\"center\")\n",
    "plt.title(\"COVID-19 Case Count per Month (2021)\")\n",
    "plt.xlabel(\"Month\")\n",
    "plt.ylabel(\"Number of COVID-19 cases\")\n",
    "plt.xticks(np.arange(1,13))\n",
    "plt.savefig(\"project_1/COVID-19 Case Count per Month (2021).png\", bbox_inches='tight')\n",
    "plt.show()"
   ]
  },
  {
   "cell_type": "code",
   "execution_count": null,
   "metadata": {},
   "outputs": [],
   "source": []
  },
  {
   "cell_type": "code",
   "execution_count": 94,
   "metadata": {},
   "outputs": [
    {
     "data": {
      "image/png": "[encoded data removed]",
      "text/plain": [
       "<Figure size 432x288 with 1 Axes>"
      ]
     },
     "metadata": {
      "needs_background": "light"
     },
     "output_type": "display_data"
    }
   ],
   "source": [
    "#Plot for the year 2020\n",
    "plt.bar(month2020, count2020, color='#F97306', align=\"center\")\n",
    "plt.ylim(0, max(count2021))\n",
    "plt.title(\"COVID-19 Case Count per Month (2020)\")\n",
    "plt.xlabel(\"Month\")\n",
    "plt.ylabel(\"Number of COVID-19 cases\")\n",
    "plt.xticks(np.arange(1,13))\n",
    "plt.savefig(\"project_1/COVID-19 Case Count per Month (2020).png\", bbox_inches='tight')\n",
    "\n",
    "plt.show()"
   ]
  },
  {
   "cell_type": "code",
   "execution_count": 81,
   "metadata": {},
   "outputs": [
    {
     "data": {
      "text/html": [
       "<div>\n",
       "<style scoped>\n",
       "    .dataframe tbody tr th:only-of-type {\n",
       "        vertical-align: middle;\n",
       "    }\n",
       "\n",
       "    .dataframe tbody tr th {\n",
       "        vertical-align: top;\n",
       "    }\n",
       "\n",
       "    .dataframe thead th {\n",
       "        text-align: right;\n",
       "    }\n",
       "</style>\n",
       "<table border=\"1\" class=\"dataframe\">\n",
       "  <thead>\n",
       "    <tr style=\"text-align: right;\">\n",
       "      <th></th>\n",
       "      <th>Month</th>\n",
       "      <th>Count</th>\n",
       "    </tr>\n",
       "  </thead>\n",
       "  <tbody>\n",
       "    <tr>\n",
       "      <th>count</th>\n",
       "      <td>12.000000</td>\n",
       "      <td>12.000000</td>\n",
       "    </tr>\n",
       "    <tr>\n",
       "      <th>mean</th>\n",
       "      <td>6.500000</td>\n",
       "      <td>15618.416667</td>\n",
       "    </tr>\n",
       "    <tr>\n",
       "      <th>std</th>\n",
       "      <td>3.605551</td>\n",
       "      <td>20495.652632</td>\n",
       "    </tr>\n",
       "    <tr>\n",
       "      <th>min</th>\n",
       "      <td>1.000000</td>\n",
       "      <td>3.000000</td>\n",
       "    </tr>\n",
       "    <tr>\n",
       "      <th>25%</th>\n",
       "      <td>3.750000</td>\n",
       "      <td>3101.750000</td>\n",
       "    </tr>\n",
       "    <tr>\n",
       "      <th>50%</th>\n",
       "      <td>6.500000</td>\n",
       "      <td>8226.500000</td>\n",
       "    </tr>\n",
       "    <tr>\n",
       "      <th>75%</th>\n",
       "      <td>9.250000</td>\n",
       "      <td>17199.250000</td>\n",
       "    </tr>\n",
       "    <tr>\n",
       "      <th>max</th>\n",
       "      <td>12.000000</td>\n",
       "      <td>68013.000000</td>\n",
       "    </tr>\n",
       "  </tbody>\n",
       "</table>\n",
       "</div>"
      ],
      "text/plain": [
       "           Month         Count\n",
       "count  12.000000     12.000000\n",
       "mean    6.500000  15618.416667\n",
       "std     3.605551  20495.652632\n",
       "min     1.000000      3.000000\n",
       "25%     3.750000   3101.750000\n",
       "50%     6.500000   8226.500000\n",
       "75%     9.250000  17199.250000\n",
       "max    12.000000  68013.000000"
      ]
     },
     "execution_count": 81,
     "metadata": {},
     "output_type": "execute_result"
    }
   ],
   "source": [
    "#Find the avg number of cases a month for each year\n",
    "df_2020.describe()"
   ]
  },
  {
   "cell_type": "code",
   "execution_count": 38,
   "metadata": {},
   "outputs": [
    {
     "data": {
      "text/html": [
       "<div>\n",
       "<style scoped>\n",
       "    .dataframe tbody tr th:only-of-type {\n",
       "        vertical-align: middle;\n",
       "    }\n",
       "\n",
       "    .dataframe tbody tr th {\n",
       "        vertical-align: top;\n",
       "    }\n",
       "\n",
       "    .dataframe thead th {\n",
       "        text-align: right;\n",
       "    }\n",
       "</style>\n",
       "<table border=\"1\" class=\"dataframe\">\n",
       "  <thead>\n",
       "    <tr style=\"text-align: right;\">\n",
       "      <th></th>\n",
       "      <th>Month</th>\n",
       "      <th>Count</th>\n",
       "    </tr>\n",
       "  </thead>\n",
       "  <tbody>\n",
       "    <tr>\n",
       "      <th>count</th>\n",
       "      <td>6.000000</td>\n",
       "      <td>6.000000</td>\n",
       "    </tr>\n",
       "    <tr>\n",
       "      <th>mean</th>\n",
       "      <td>3.500000</td>\n",
       "      <td>59076.500000</td>\n",
       "    </tr>\n",
       "    <tr>\n",
       "      <th>std</th>\n",
       "      <td>1.870829</td>\n",
       "      <td>37422.799894</td>\n",
       "    </tr>\n",
       "    <tr>\n",
       "      <th>min</th>\n",
       "      <td>1.000000</td>\n",
       "      <td>9320.000000</td>\n",
       "    </tr>\n",
       "    <tr>\n",
       "      <th>25%</th>\n",
       "      <td>2.250000</td>\n",
       "      <td>37176.250000</td>\n",
       "    </tr>\n",
       "    <tr>\n",
       "      <th>50%</th>\n",
       "      <td>3.500000</td>\n",
       "      <td>57191.500000</td>\n",
       "    </tr>\n",
       "    <tr>\n",
       "      <th>75%</th>\n",
       "      <td>4.750000</td>\n",
       "      <td>77945.500000</td>\n",
       "    </tr>\n",
       "    <tr>\n",
       "      <th>max</th>\n",
       "      <td>6.000000</td>\n",
       "      <td>115388.000000</td>\n",
       "    </tr>\n",
       "  </tbody>\n",
       "</table>\n",
       "</div>"
      ],
      "text/plain": [
       "          Month          Count\n",
       "count  6.000000       6.000000\n",
       "mean   3.500000   59076.500000\n",
       "std    1.870829   37422.799894\n",
       "min    1.000000    9320.000000\n",
       "25%    2.250000   37176.250000\n",
       "50%    3.500000   57191.500000\n",
       "75%    4.750000   77945.500000\n",
       "max    6.000000  115388.000000"
      ]
     },
     "execution_count": 38,
     "metadata": {},
     "output_type": "execute_result"
    }
   ],
   "source": [
    "df_2021.describe()"
   ]
  },
  {
   "cell_type": "code",
   "execution_count": 39,
   "metadata": {},
   "outputs": [],
   "source": [
    "#ignore\n",
    "#city_time = covid_df[['Reporting_PHU_City', 'month', 'year']].copy()\n",
    "#city_group = city_time.groupby(['Reporting_PHU_City'])\n",
    "#city_group.head()"
   ]
  },
  {
   "cell_type": "code",
   "execution_count": null,
   "metadata": {},
   "outputs": [],
   "source": []
  },
  {
   "cell_type": "markdown",
   "metadata": {},
   "source": [
    "# Part 4: Case Acquisition Analysis"
   ]
  },
  {
   "cell_type": "markdown",
   "metadata": {},
   "source": [
    "# What was the most common way that people got COVID? \n"
   ]
  },
  {
   "cell_type": "markdown",
   "metadata": {},
   "source": [
    "# How many cases were the result of an outbreak? (Insert “no “ in all of the blanks)\n"
   ]
  },
  {
   "cell_type": "markdown",
   "metadata": {},
   "source": [
    "# How did people get COVID during the first 3 months of the Pandemic vs the last three?"
   ]
  },
  {
   "cell_type": "code",
   "execution_count": 40,
   "metadata": {},
   "outputs": [
    {
     "data": {
      "text/plain": [
       "array(['NO KNOWN EPI LINK', 'OB', 'CC', 'TRAVEL', 'MISSING INFORMATION',\n",
       "       'UNSPECIFIED EPI LINK'], dtype=object)"
      ]
     },
     "execution_count": 40,
     "metadata": {},
     "output_type": "execute_result"
    }
   ],
   "source": [
    "covid_df[\"Case_AcquisitionInfo\"].unique()"
   ]
  },
  {
   "cell_type": "code",
   "execution_count": 41,
   "metadata": {},
   "outputs": [
    {
     "data": {
      "text/html": [
       "<div>\n",
       "<style scoped>\n",
       "    .dataframe tbody tr th:only-of-type {\n",
       "        vertical-align: middle;\n",
       "    }\n",
       "\n",
       "    .dataframe tbody tr th {\n",
       "        vertical-align: top;\n",
       "    }\n",
       "\n",
       "    .dataframe thead th {\n",
       "        text-align: right;\n",
       "    }\n",
       "</style>\n",
       "<table border=\"1\" class=\"dataframe\">\n",
       "  <thead>\n",
       "    <tr style=\"text-align: right;\">\n",
       "      <th></th>\n",
       "      <th>How</th>\n",
       "      <th>Count</th>\n",
       "    </tr>\n",
       "  </thead>\n",
       "  <tbody>\n",
       "    <tr>\n",
       "      <th>0</th>\n",
       "      <td>CC</td>\n",
       "      <td>241880</td>\n",
       "    </tr>\n",
       "    <tr>\n",
       "      <th>1</th>\n",
       "      <td>NO KNOWN EPI LINK</td>\n",
       "      <td>157194</td>\n",
       "    </tr>\n",
       "    <tr>\n",
       "      <th>2</th>\n",
       "      <td>OB</td>\n",
       "      <td>82188</td>\n",
       "    </tr>\n",
       "    <tr>\n",
       "      <th>3</th>\n",
       "      <td>MISSING INFORMATION</td>\n",
       "      <td>51666</td>\n",
       "    </tr>\n",
       "    <tr>\n",
       "      <th>4</th>\n",
       "      <td>TRAVEL</td>\n",
       "      <td>8833</td>\n",
       "    </tr>\n",
       "    <tr>\n",
       "      <th>5</th>\n",
       "      <td>UNSPECIFIED EPI LINK</td>\n",
       "      <td>119</td>\n",
       "    </tr>\n",
       "  </tbody>\n",
       "</table>\n",
       "</div>"
      ],
      "text/plain": [
       "                    How   Count\n",
       "0                    CC  241880\n",
       "1     NO KNOWN EPI LINK  157194\n",
       "2                    OB   82188\n",
       "3   MISSING INFORMATION   51666\n",
       "4                TRAVEL    8833\n",
       "5  UNSPECIFIED EPI LINK     119"
      ]
     },
     "execution_count": 41,
     "metadata": {},
     "output_type": "execute_result"
    }
   ],
   "source": [
    "\n",
    "case_ac = covid_df[\"Case_AcquisitionInfo\"].value_counts()\n",
    "\n",
    "# converting to df and assigning new names to the columns\n",
    "case_a = pd.DataFrame(case_ac)\n",
    "case_a = case_a.reset_index()\n",
    "# change column names\n",
    "case_a.columns = ['How', 'Count'] \n",
    "case_a\n"
   ]
  },
  {
   "cell_type": "code",
   "execution_count": 42,
   "metadata": {},
   "outputs": [],
   "source": [
    "#turn into variables for the bar chart\n",
    "how = case_a['How']\n",
    "counthow = case_a['Count']"
   ]
  },
  {
   "cell_type": "code",
   "execution_count": 103,
   "metadata": {},
   "outputs": [
    {
     "data": {
      "image/png": "[encoded data removed]",
      "text/plain": [
       "<Figure size 432x288 with 1 Axes>"
      ]
     },
     "metadata": {
      "needs_background": "light"
     },
     "output_type": "display_data"
    }
   ],
   "source": [
    "#Chart the data for case acquistion\n",
    "\n",
    "colours = ['#F97306', 'red', '#069aF3',]\n",
    "\n",
    "plt.bar(how, counthow, color=colours, align=\"center\")\n",
    "plt.title(\"How COVID-19 Cases Were Acquired\")\n",
    "plt.xlabel(\"Case Acquisition Type\")\n",
    "plt.ylabel(\"Number of COVID-19 cases\")\n",
    "plt.xticks(rotation = 70)\n",
    "plt.savefig(\"project_1/How COVID-19 Cases Were Acquired.png\", bbox_inches='tight')\n",
    "\n",
    "plt.show()"
   ]
  },
  {
   "cell_type": "code",
   "execution_count": 44,
   "metadata": {},
   "outputs": [
    {
     "data": {
      "text/plain": [
       "Text(0.5, 1.0, 'COVID cases by age (60+)')"
      ]
     },
     "execution_count": 44,
     "metadata": {},
     "output_type": "execute_result"
    },
    {
     "data": {
      "image/png": "[encoded data removed]",
      "text/plain": [
       "<Figure size 432x288 with 1 Axes>"
      ]
     },
     "metadata": {},
     "output_type": "display_data"
    }
   ],
   "source": [
    "#Also try the data in a pie chart just to see\n",
    "plt.pie(counthow, labels=how,\n",
    "        autopct=\"%1.1f%%\", shadow=True, startangle=140)\n",
    "plt.xticks(rotation = 40)\n",
    "plt.title(\"COVID cases by age (60+)\")"
   ]
  },
  {
   "cell_type": "code",
   "execution_count": 45,
   "metadata": {},
   "outputs": [
    {
     "data": {
      "text/plain": [
       "TRAVEL                 0.345588\n",
       "NO KNOWN EPI LINK      0.269051\n",
       "CC                     0.228944\n",
       "OB                     0.130013\n",
       "MISSING INFORMATION    0.026404\n",
       "Name: Case_AcquisitionInfo, dtype: float64"
      ]
     },
     "execution_count": 45,
     "metadata": {},
     "output_type": "execute_result"
    }
   ],
   "source": [
    "#take all the data from the year 2020 and select only the first 3 months\n",
    "#calculate the percentage of each value\n",
    "\n",
    "first2020_df = covid_df.loc[covid_df[\"year\"] == 2020, :]\n",
    "first2020_df = first2020_df.loc[(first2020_df[\"month\"] == 1) |(first2020_df[\"month\"] == 2) |(first2020_df[\"month\"] == 3) , :]\n",
    "first2020_df.count()\n",
    "first2020_df['Case_AcquisitionInfo'].value_counts(normalize=True)"
   ]
  },
  {
   "cell_type": "code",
   "execution_count": 46,
   "metadata": {},
   "outputs": [
    {
     "data": {
      "text/plain": [
       "CC                     0.463181\n",
       "NO KNOWN EPI LINK      0.349291\n",
       "MISSING INFORMATION    0.090931\n",
       "OB                     0.082823\n",
       "TRAVEL                 0.013774\n",
       "Name: Case_AcquisitionInfo, dtype: float64"
      ]
     },
     "execution_count": 46,
     "metadata": {},
     "output_type": "execute_result"
    }
   ],
   "source": [
    "#Do the same as above but for 2021\n",
    "first2021_df = covid_df.loc[covid_df[\"year\"] == 2021, :]\n",
    "first2021_df = first2021_df.loc[(first2021_df[\"month\"] == 6) |(first2021_df[\"month\"] == 5) |(first2021_df[\"month\"] == 4) , :]\n",
    "first2021_df.count()\n",
    "\n",
    "first2021_df['Case_AcquisitionInfo'].value_counts(normalize=True)"
   ]
  },
  {
   "cell_type": "code",
   "execution_count": 47,
   "metadata": {},
   "outputs": [],
   "source": [
    "#put \"no\" in all of the blank spaces in the case acqusition column \n",
    "covid_df.fillna('No', inplace=True)"
   ]
  },
  {
   "cell_type": "code",
   "execution_count": 48,
   "metadata": {},
   "outputs": [
    {
     "data": {
      "text/plain": [
       "No     449918\n",
       "Yes     91962\n",
       "Name: Outbreak_Related, dtype: int64"
      ]
     },
     "execution_count": 48,
     "metadata": {},
     "output_type": "execute_result"
    }
   ],
   "source": [
    "#Find the counts for \"yes\" and \"NO\"\n",
    "\n",
    "covid_outbreak = covid_df['Outbreak_Related'].value_counts()\n",
    "covid_outbreak"
   ]
  },
  {
   "cell_type": "code",
   "execution_count": 49,
   "metadata": {},
   "outputs": [
    {
     "data": {
      "text/html": [
       "<div>\n",
       "<style scoped>\n",
       "    .dataframe tbody tr th:only-of-type {\n",
       "        vertical-align: middle;\n",
       "    }\n",
       "\n",
       "    .dataframe tbody tr th {\n",
       "        vertical-align: top;\n",
       "    }\n",
       "\n",
       "    .dataframe thead th {\n",
       "        text-align: right;\n",
       "    }\n",
       "</style>\n",
       "<table border=\"1\" class=\"dataframe\">\n",
       "  <thead>\n",
       "    <tr style=\"text-align: right;\">\n",
       "      <th></th>\n",
       "      <th>index</th>\n",
       "      <th>Outbreak_Related</th>\n",
       "    </tr>\n",
       "  </thead>\n",
       "  <tbody>\n",
       "    <tr>\n",
       "      <th>0</th>\n",
       "      <td>No</td>\n",
       "      <td>449918</td>\n",
       "    </tr>\n",
       "    <tr>\n",
       "      <th>1</th>\n",
       "      <td>Yes</td>\n",
       "      <td>91962</td>\n",
       "    </tr>\n",
       "  </tbody>\n",
       "</table>\n",
       "</div>"
      ],
      "text/plain": [
       "  index  Outbreak_Related\n",
       "0    No            449918\n",
       "1   Yes             91962"
      ]
     },
     "execution_count": 49,
     "metadata": {},
     "output_type": "execute_result"
    }
   ],
   "source": [
    "#Create a dataframe out of the value counts\n",
    "covid_outbreak2 = pd.DataFrame(covid_outbreak)\n",
    "covid_outbreak2 = covid_outbreak.reset_index()\n",
    "covid_outbreak2"
   ]
  },
  {
   "cell_type": "code",
   "execution_count": 50,
   "metadata": {},
   "outputs": [],
   "source": [
    "#save as variables to plot\n",
    "\n",
    "obr = covid_outbreak2['index']\n",
    "ct = covid_outbreak2['Outbreak_Related']"
   ]
  },
  {
   "cell_type": "code",
   "execution_count": 97,
   "metadata": {},
   "outputs": [
    {
     "data": {
      "image/png": "[encoded data removed]",
      "text/plain": [
       "<Figure size 432x288 with 1 Axes>"
      ]
     },
     "metadata": {},
     "output_type": "display_data"
    }
   ],
   "source": [
    "#create pie chart of the outbreak (or not) related cases\n",
    "\n",
    "plt.pie(ct, labels=obr,\n",
    "        autopct=\"%1.1f%%\", colors=color1, shadow=True, startangle=140)\n",
    "plt.title(\"COVID cases Acqiured from Outbreak\")\n",
    "plt.savefig(\"COVID cases by age (60+).png\")\n",
    "plt.savefig(\"project_1/COVID cases Acqiured from Outbreak.png\", bbox_inches='tight')\n",
    "\n",
    "plt.show()"
   ]
  },
  {
   "cell_type": "code",
   "execution_count": 52,
   "metadata": {},
   "outputs": [],
   "source": [
    "#Manipulate the data to compare age group to if they caught covid in an outbreak or not\n",
    "outbreak_age = covid_df[['Outbreak_Related', 'Age_Group']].copy()\n",
    "\n",
    "onlyyes = outbreak_age.loc[outbreak_age[\"Outbreak_Related\"] == \"Yes\", :]\n",
    "onlyyes2 = onlyyes[\"Age_Group\"].value_counts()"
   ]
  },
  {
   "cell_type": "code",
   "execution_count": 53,
   "metadata": {},
   "outputs": [
    {
     "data": {
      "text/html": [
       "<div>\n",
       "<style scoped>\n",
       "    .dataframe tbody tr th:only-of-type {\n",
       "        vertical-align: middle;\n",
       "    }\n",
       "\n",
       "    .dataframe tbody tr th {\n",
       "        vertical-align: top;\n",
       "    }\n",
       "\n",
       "    .dataframe thead th {\n",
       "        text-align: right;\n",
       "    }\n",
       "</style>\n",
       "<table border=\"1\" class=\"dataframe\">\n",
       "  <thead>\n",
       "    <tr style=\"text-align: right;\">\n",
       "      <th></th>\n",
       "      <th>Age</th>\n",
       "      <th>Count</th>\n",
       "    </tr>\n",
       "  </thead>\n",
       "  <tbody>\n",
       "    <tr>\n",
       "      <th>0</th>\n",
       "      <td>20s</td>\n",
       "      <td>14091</td>\n",
       "    </tr>\n",
       "    <tr>\n",
       "      <th>1</th>\n",
       "      <td>50s</td>\n",
       "      <td>13383</td>\n",
       "    </tr>\n",
       "    <tr>\n",
       "      <th>2</th>\n",
       "      <td>40s</td>\n",
       "      <td>13236</td>\n",
       "    </tr>\n",
       "    <tr>\n",
       "      <th>3</th>\n",
       "      <td>30s</td>\n",
       "      <td>13029</td>\n",
       "    </tr>\n",
       "    <tr>\n",
       "      <th>4</th>\n",
       "      <td>&lt;20</td>\n",
       "      <td>9848</td>\n",
       "    </tr>\n",
       "    <tr>\n",
       "      <th>5</th>\n",
       "      <td>80s</td>\n",
       "      <td>8624</td>\n",
       "    </tr>\n",
       "    <tr>\n",
       "      <th>6</th>\n",
       "      <td>60s</td>\n",
       "      <td>7794</td>\n",
       "    </tr>\n",
       "    <tr>\n",
       "      <th>7</th>\n",
       "      <td>90+</td>\n",
       "      <td>6886</td>\n",
       "    </tr>\n",
       "    <tr>\n",
       "      <th>8</th>\n",
       "      <td>70s</td>\n",
       "      <td>5050</td>\n",
       "    </tr>\n",
       "    <tr>\n",
       "      <th>9</th>\n",
       "      <td>Unsure</td>\n",
       "      <td>21</td>\n",
       "    </tr>\n",
       "  </tbody>\n",
       "</table>\n",
       "</div>"
      ],
      "text/plain": [
       "      Age  Count\n",
       "0     20s  14091\n",
       "1     50s  13383\n",
       "2     40s  13236\n",
       "3     30s  13029\n",
       "4     <20   9848\n",
       "5     80s   8624\n",
       "6     60s   7794\n",
       "7     90+   6886\n",
       "8     70s   5050\n",
       "9  Unsure     21"
      ]
     },
     "execution_count": 53,
     "metadata": {},
     "output_type": "execute_result"
    }
   ],
   "source": [
    "only_yes = pd.DataFrame(onlyyes2)\n",
    "only_yes = only_yes.reset_index()\n",
    "only_yes.columns = ['Age', 'Count'] \n",
    " \n",
    "only_yes"
   ]
  },
  {
   "cell_type": "code",
   "execution_count": 54,
   "metadata": {},
   "outputs": [],
   "source": [
    "onlyno = outbreak_age.loc[outbreak_age[\"Outbreak_Related\"] == \"No\", :]\n",
    "onlyno2 = onlyno[\"Age_Group\"].value_counts()\n"
   ]
  },
  {
   "cell_type": "code",
   "execution_count": 55,
   "metadata": {},
   "outputs": [
    {
     "data": {
      "text/html": [
       "<div>\n",
       "<style scoped>\n",
       "    .dataframe tbody tr th:only-of-type {\n",
       "        vertical-align: middle;\n",
       "    }\n",
       "\n",
       "    .dataframe tbody tr th {\n",
       "        vertical-align: top;\n",
       "    }\n",
       "\n",
       "    .dataframe thead th {\n",
       "        text-align: right;\n",
       "    }\n",
       "</style>\n",
       "<table border=\"1\" class=\"dataframe\">\n",
       "  <thead>\n",
       "    <tr style=\"text-align: right;\">\n",
       "      <th></th>\n",
       "      <th>Age</th>\n",
       "      <th>Count</th>\n",
       "    </tr>\n",
       "  </thead>\n",
       "  <tbody>\n",
       "    <tr>\n",
       "      <th>0</th>\n",
       "      <td>20s</td>\n",
       "      <td>100633</td>\n",
       "    </tr>\n",
       "    <tr>\n",
       "      <th>1</th>\n",
       "      <td>&lt;20</td>\n",
       "      <td>77131</td>\n",
       "    </tr>\n",
       "    <tr>\n",
       "      <th>2</th>\n",
       "      <td>30s</td>\n",
       "      <td>75263</td>\n",
       "    </tr>\n",
       "    <tr>\n",
       "      <th>3</th>\n",
       "      <td>40s</td>\n",
       "      <td>64599</td>\n",
       "    </tr>\n",
       "    <tr>\n",
       "      <th>4</th>\n",
       "      <td>50s</td>\n",
       "      <td>63555</td>\n",
       "    </tr>\n",
       "    <tr>\n",
       "      <th>5</th>\n",
       "      <td>60s</td>\n",
       "      <td>40258</td>\n",
       "    </tr>\n",
       "    <tr>\n",
       "      <th>6</th>\n",
       "      <td>70s</td>\n",
       "      <td>18940</td>\n",
       "    </tr>\n",
       "    <tr>\n",
       "      <th>7</th>\n",
       "      <td>80s</td>\n",
       "      <td>7778</td>\n",
       "    </tr>\n",
       "    <tr>\n",
       "      <th>8</th>\n",
       "      <td>90+</td>\n",
       "      <td>1678</td>\n",
       "    </tr>\n",
       "    <tr>\n",
       "      <th>9</th>\n",
       "      <td>Unsure</td>\n",
       "      <td>83</td>\n",
       "    </tr>\n",
       "  </tbody>\n",
       "</table>\n",
       "</div>"
      ],
      "text/plain": [
       "      Age   Count\n",
       "0     20s  100633\n",
       "1     <20   77131\n",
       "2     30s   75263\n",
       "3     40s   64599\n",
       "4     50s   63555\n",
       "5     60s   40258\n",
       "6     70s   18940\n",
       "7     80s    7778\n",
       "8     90+    1678\n",
       "9  Unsure      83"
      ]
     },
     "execution_count": 55,
     "metadata": {},
     "output_type": "execute_result"
    }
   ],
   "source": [
    "only_no = pd.DataFrame(onlyno2)\n",
    "only_no = only_no.reset_index()\n",
    "only_no.columns = ['Age', 'Count'] \n",
    " \n",
    "only_no\n"
   ]
  },
  {
   "cell_type": "code",
   "execution_count": 56,
   "metadata": {},
   "outputs": [],
   "source": [
    "#Set as variables to plot\n",
    "\n",
    "age_no = only_no[\"Age\"]\n",
    "count_no = only_no[\"Count\"]\n",
    "\n",
    "age_yes = only_yes[\"Age\"]\n",
    "count_yes = only_yes[\"Count\"]\n"
   ]
  },
  {
   "cell_type": "code",
   "execution_count": 57,
   "metadata": {},
   "outputs": [],
   "source": [
    "colours = ['pink', 'purple', 'red', 'blue', 'cyan']"
   ]
  },
  {
   "cell_type": "code",
   "execution_count": 58,
   "metadata": {},
   "outputs": [
    {
     "data": {
      "image/png": "[encoded data removed]",
      "text/plain": [
       "<Figure size 432x288 with 1 Axes>"
      ]
     },
     "metadata": {},
     "output_type": "display_data"
    }
   ],
   "source": [
    "#Those that DID NOT get COVID in an outbreak grouped by age\n",
    "plt.pie(count_no, labels=age_no,\n",
    "        autopct=\"%1.1f%%\", shadow=True, startangle=140)\n",
    "plt.title(\"COVID cases NOT Acqiured from Outbreak by age\")\n",
    "plt.show()"
   ]
  },
  {
   "cell_type": "code",
   "execution_count": 59,
   "metadata": {},
   "outputs": [
    {
     "data": {
      "image/png": "[encoded data removed]",
      "text/plain": [
       "<Figure size 432x288 with 1 Axes>"
      ]
     },
     "metadata": {},
     "output_type": "display_data"
    }
   ],
   "source": [
    "#Those that DID get COVID in an outbreak grouped by age\n",
    "\n",
    "plt.pie(count_yes, labels=age_yes,\n",
    "        autopct=\"%1.1f%%\", shadow=True, startangle=140)\n",
    "plt.title(\"COVID cases Acqiured from Outbreak by age\")\n",
    "plt.show()"
   ]
  },
  {
   "cell_type": "code",
   "execution_count": 60,
   "metadata": {},
   "outputs": [],
   "source": [
    "#These charts inticate that many people in their 80s and 90s got COVID in an ourbreak rather than not"
   ]
  }
 ],
 "metadata": {
  "kernelspec": {
   "display_name": "Python 3",
   "language": "python",
   "name": "python3"
  },
  "language_info": {
   "codemirror_mode": {
    "name": "ipython",
    "version": 3
   },
   "file_extension": ".py",
   "mimetype": "text/x-python",
   "name": "python",
   "nbconvert_exporter": "python",
   "pygments_lexer": "ipython3",
   "version": "3.8.10"
  }
 },
 "nbformat": 4,
 "nbformat_minor": 4
}
